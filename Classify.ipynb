{
 "cells": [
  {
   "cell_type": "markdown",
   "metadata": {},
   "source": [
    "## step1: Import"
   ]
  },
  {
   "cell_type": "code",
   "execution_count": 1,
   "metadata": {},
   "outputs": [],
   "source": [
    "import numpy as np\n",
    "from scipy.special import softmax\n",
    "import matplotlib.pyplot as plt\n",
    "from PIL import Image\n",
    "import pickle\n",
    "import pandas as pd"
   ]
  },
  {
   "cell_type": "markdown",
   "metadata": {},
   "source": [
    "## step2: Read Data, Normalization and split"
   ]
  },
  {
   "cell_type": "code",
   "execution_count": 2,
   "metadata": {},
   "outputs": [
    {
     "name": "stdout",
     "output_type": "stream",
     "text": [
      "           age       bmi  children   charges\n",
      "0     0.021739  0.321227       0.0  0.251611\n",
      "1     0.000000  0.479150       0.2  0.009636\n",
      "2     0.217391  0.458434       0.6  0.053115\n",
      "3     0.326087  0.181464       0.0  0.333010\n",
      "4     0.304348  0.347592       0.0  0.043816\n",
      "...        ...       ...       ...       ...\n",
      "1333  0.695652  0.403820       0.6  0.151299\n",
      "1334  0.000000  0.429379       0.0  0.017305\n",
      "1335  0.000000  0.562012       0.0  0.008108\n",
      "1336  0.065217  0.264730       0.0  0.014144\n",
      "1337  0.934783  0.352704       0.0  0.447249\n",
      "\n",
      "[1338 rows x 4 columns]\n"
     ]
    }
   ],
   "source": [
    "df = pd.read_csv(\"./insurance.csv\")\n",
    "tags = ['age', 'bmi', 'children']\n",
    "label = ['charges']\n",
    "\n",
    "miny = df[label].min()\n",
    "maxy = df[label].max()\n",
    "\n",
    "df = df[tags+label]\n",
    "df = (df - df.min(axis=0)) / (df.max(axis=0)- df.min(axis=0))\n",
    "\n",
    "print(df)\n",
    "\n",
    "x = np.array(df[tags])\n",
    "y = np.array(df[label])\n",
    "\n",
    "length = len(y)\n",
    "trainLen = int(0.9*length)\n",
    "XTrain = x[0: trainLen]\n",
    "YTrain = y[0: trainLen]\n",
    "\n",
    "XTest = x[trainLen: ]\n",
    "YTest = y[trainLen: ]\n",
    "\n",
    "# YTest"
   ]
  },
  {
   "cell_type": "markdown",
   "metadata": {},
   "source": [
    "## Step3: Create Network"
   ]
  },
  {
   "cell_type": "markdown",
   "metadata": {},
   "source": [
    "### define neuronFunction\n",
    "test different activation functions(Relu, Sigmoid)"
   ]
  },
  {
   "cell_type": "code",
   "execution_count": 3,
   "metadata": {},
   "outputs": [],
   "source": [
    "class NeuronFunction:\n",
    "    # 作用于神经元以修改各参数的函数\n",
    "    def NFForward(self, input):\n",
    "        # 由输入矩阵进行参数运算得到输出矩阵\n",
    "        self.input = input\n",
    "        self.output = self.NFSubOutput()   # 根据要求调用不同的激活函数\n",
    "        return self.output\n",
    "    \n",
    "    def NFBackward(self, errorgrad):\n",
    "        # 由后一损失梯度得到前一损失梯度\n",
    "        return self.NFSubInputGrad(errorgrad) # 根据要求乘上不同的激活函数导数\n",
    "    \n",
    "class Sigmoid(NeuronFunction):\n",
    "    # 与激活函数Sigmoid()相关的操作\n",
    "    def NFSubOutput(self):\n",
    "        return 1.0 / (1.0 + np.exp(-self.input))\n",
    "\n",
    "    def NFSubInputGrad(self, errorgrad):\n",
    "        return self.output * (1.0 - self.output) * errorgrad\n",
    "\n",
    "class Relu(NeuronFunction):\n",
    "    # 与激活函数Relu()相关的操作\n",
    "    def NFSubOutput(self):\n",
    "        # return 1.0 / (1.0 + np.exp(-self.input))\n",
    "        return np.maximum(self.input, 0)\n",
    "\n",
    "\n",
    "    def NFSubInputGrad(self, errorgrad):\n",
    "        # return self.output * (1.0 - self.output) * errorgrad\n",
    "        return np.maximum(errorgrad, 0)\n",
    "\n",
    "\n",
    "class ParamFunction(NeuronFunction):\n",
    "    # 将关于weight和bias的操作的超类也定义为NeuronFunction的子类，后续反向传播统一调用即可\n",
    "    def __init__(self, param):\n",
    "        self.param = param  # 增加变量param\n",
    "    \n",
    "    def NFBackward(self, errorgrad):\n",
    "        self.paramgrad = self.PFSubParamGrad(errorgrad)\n",
    "        return super().NFBackward(errorgrad)\n",
    "\n",
    "class RegressionEnd(NeuronFunction):\n",
    "    # 回归任务中，最后一层神经元不使用Sigmoid，需要特殊操作\n",
    "    def NFSubOutput(self):\n",
    "        return self.input   # 直接输出输入\n",
    "    \n",
    "    def NFSubInputGrad(self, errorgrad):\n",
    "        return errorgrad   # 不做任何操作\n",
    "\n",
    "class Weight(ParamFunction):\n",
    "    # 与权重weight相关的操作\n",
    "    def __init__(self, param):\n",
    "        super().__init__(param)\n",
    "    \n",
    "    def NFSubOutput(self):\n",
    "        return np.dot(self.input, self.param)\n",
    "    \n",
    "    def NFSubInputGrad(self, errorgrad):\n",
    "        return np.dot(errorgrad, self.param.T)\n",
    "    \n",
    "    def PFSubParamGrad(self, errorgrad):\n",
    "        return np.dot(self.input.T, errorgrad)\n",
    "\n",
    "class Bias(ParamFunction):\n",
    "    # 与偏置bias相关的操作\n",
    "    def __init__(self, param):\n",
    "        super().__init__(param)\n",
    "    \n",
    "    def NFSubOutput(self):\n",
    "        return self.input + self.param\n",
    "    \n",
    "    def NFSubInputGrad(self, errorgrad):\n",
    "        return errorgrad\n",
    "    \n",
    "    def PFSubParamGrad(self, errorgrad):\n",
    "        return np.dot(np.ones((1, self.input.shape[0])), errorgrad)"
   ]
  },
  {
   "cell_type": "markdown",
   "metadata": {},
   "source": [
    "### Define errorFunction"
   ]
  },
  {
   "cell_type": "code",
   "execution_count": 4,
   "metadata": {},
   "outputs": [],
   "source": [
    "class Error:\n",
    "    # 计算误差以调整优化参数\n",
    "    def EForward(self, result, expected):\n",
    "        # 由损失函数求出损失值\n",
    "        self.result = result\n",
    "        self.expected = expected\n",
    "        return self.ESubOutput()    # 根据指定损失函数调用子类函数\n",
    "    \n",
    "    def EBackward(self):\n",
    "        # 由输出值求出其对损失函数的梯度\n",
    "        self.inputGrad = self.ESubInputGrad()\n",
    "        return self.inputGrad\n",
    "    \n",
    "class MeanSquareError(Error):\n",
    "    # 均方误差\n",
    "    def ESubOutput(self):\n",
    "        return (np.sum(np.power(self.result - self.expected, 2)) / self.result.shape[0])\n",
    "    \n",
    "    def ESubInputGrad(self):\n",
    "        return (2.0 * (self.result - self.expected) / self.result.shape[0])"
   ]
  },
  {
   "cell_type": "markdown",
   "metadata": {},
   "source": [
    "### Define NetLayer"
   ]
  },
  {
   "cell_type": "code",
   "execution_count": 5,
   "metadata": {},
   "outputs": [],
   "source": [
    "import numpy as np\n",
    "\n",
    "class Layer:\n",
    "    # 神经网络层，对每一个网络层创建一个此类对象\n",
    "    def __init__(self, quantity, activation):\n",
    "        self.params = []\n",
    "        self.neuronFunctions: list[NeuronFunction] = []\n",
    "        self.established = False\n",
    "        self.quantity = quantity\n",
    "        self.activation = activation\n",
    "\n",
    "    def LForward(self, input):\n",
    "        # 由输入矩阵进行参数运算得到输出矩阵\n",
    "        if self.established == False:\n",
    "            # 初始化网络参数\n",
    "            self.params = []\n",
    "            self.params.append(np.random.randn(input.shape[1], self.quantity) * 0.1)\n",
    "            self.params.append(-np.random.random((1, self.quantity)) * 0.1)\n",
    "            self.neuronFunctions = [Weight(self.params[0]), Bias(self.params[1]), self.activation]\n",
    "            self.established = True\n",
    "        self.input = input\n",
    "        for f in self.neuronFunctions:\n",
    "            input = f.NFForward(input)\n",
    "        self.output = input\n",
    "        return self.output\n",
    "    \n",
    "    def LBackward(self, errorgrad):\n",
    "        # 由后一损失梯度得到前一损失梯度\n",
    "        for f in reversed(self.neuronFunctions):\n",
    "            errorgrad = f.NFBackward(errorgrad)\n",
    "        self.paramsgrads = []\n",
    "        for f in self.neuronFunctions:\n",
    "            # 本步只作用于与weight和bias有关的操作\n",
    "            if issubclass(f.__class__, ParamFunction):\n",
    "                self.paramsgrads.append(f.paramgrad)\n",
    "        return errorgrad\n"
   ]
  },
  {
   "cell_type": "markdown",
   "metadata": {},
   "source": [
    "### Define BPNetwork"
   ]
  },
  {
   "cell_type": "code",
   "execution_count": 6,
   "metadata": {},
   "outputs": [],
   "source": [
    "class BPNetwork:\n",
    "    # 构造BP网络\n",
    "    def __init__(self, layers, error):\n",
    "        self.layers: list[Layer] = layers\n",
    "        self.error: Error = error\n",
    "        self.Y0 = []\n",
    "        self.Y1 = []\n",
    "        self.Y2 = []\n",
    "    \n",
    "    def BPNForward(self, batch):\n",
    "        # 前向传播\n",
    "        for l in self.layers:\n",
    "            batch = l.LForward(batch)\n",
    "        return batch\n",
    "\n",
    "    def BPNBackward(self, ErrorGrad):\n",
    "        # 反向传播\n",
    "        for l in reversed(self.layers):\n",
    "            ErrorGrad = l.LBackward(ErrorGrad)\n",
    "    \n",
    "    def BPNBatchTrain(self, batch, expected):\n",
    "        results = self.BPNForward(batch)\n",
    "        error = self.error.EForward(results, expected)\n",
    "        self.BPNBackward(self.error.EBackward())\n",
    "        return error\n",
    "    \n",
    "    # 下面两个函数使用生成器，用于逐层优化网络参数\n",
    "    def ParamsGenerator(self):\n",
    "        for l in self.layers:\n",
    "            yield from l.params\n",
    "    \n",
    "    def ParamGradsGenerator(self):\n",
    "        for l in self.layers:\n",
    "            yield from l.paramsgrads\n",
    "    \n",
    "    def BatchGenerator(self, x, y, BatchSize):\n",
    "        # 使用生成器实现\n",
    "        for i in range(0, x.shape[0], BatchSize):\n",
    "            XBatch, YBatch = x[i:i+BatchSize], y[i:i+BatchSize]\n",
    "            yield XBatch, YBatch\n",
    "    \n",
    "    def BPNTrain(self, XTrain, YTrain, epoches, interval, BatchSize, LearningRate):\n",
    "        for e in range(epoches):\n",
    "                \n",
    "            if (e) % interval == 0:\n",
    "                r = self.BPNForward(XTrain)\n",
    "                er = self.error.EForward(r, YTrain)\n",
    "                self.Y0.append(er)\n",
    "                # results = self.BPNForward(XTest)\n",
    "                # error = self.error.EForward(results, YTest)\n",
    "\n",
    "                print(f\"\\repoch: {e}/{epoches}, error = {er}\\r\", end=\"\")\n",
    "\n",
    "            shuffle = np.random.permutation(XTrain.shape[0])    # 打乱顺序\n",
    "            XTrain, YTrain = XTrain[shuffle], YTrain[shuffle]\n",
    "            for XBatch, YBatch in self.BatchGenerator(XTrain, YTrain, BatchSize):\n",
    "                self.BPNBatchTrain(XBatch, YBatch)\n",
    "                for (param, paramGrad) in zip(self.ParamsGenerator(), self.ParamGradsGenerator()):\n",
    "                    param -= LearningRate * paramGrad\n",
    "    \n",
    "    def BPNPredict(self, classify, XTest, YTest, cr=[]):\n",
    "        if classify:\n",
    "            results = self.BPNForward(XTest)\n",
    "            accuracy = np.equal(np.argmax(results, axis=1), cr).sum() / cr.shape[0]\n",
    "            self.Y2.append(accuracy)\n",
    "            print(f\"accuracy: {accuracy}\")\n"
   ]
  },
  {
   "cell_type": "markdown",
   "metadata": {},
   "source": [
    "## step4: Create Network Instance and Train"
   ]
  },
  {
   "cell_type": "code",
   "execution_count": 7,
   "metadata": {},
   "outputs": [
    {
     "name": "stdout",
     "output_type": "stream",
     "text": [
      "epoch: 19960/20000, error = 0.032372626135011036\r"
     ]
    }
   ],
   "source": [
    "\n",
    "bpn2 = BPNetwork([ Layer(8, Sigmoid()), Layer(1, RegressionEnd())], MeanSquareError())\n",
    "bpn2.BPNTrain(XTrain, YTrain, epoches=20000, interval=40, BatchSize=40, LearningRate=0.001)\n",
    "\n"
   ]
  },
  {
   "cell_type": "markdown",
   "metadata": {},
   "source": [
    "## step5: Save the Model"
   ]
  },
  {
   "cell_type": "code",
   "execution_count": 8,
   "metadata": {},
   "outputs": [],
   "source": [
    "\n",
    "with open('xzymodel.pkl', 'wb') as f:\n",
    "    pickle.dump(bpn2, f)"
   ]
  },
  {
   "cell_type": "markdown",
   "metadata": {},
   "source": [
    "## step6: Load and Test"
   ]
  },
  {
   "cell_type": "code",
   "execution_count": 9,
   "metadata": {},
   "outputs": [
    {
     "name": "stdout",
     "output_type": "stream",
     "text": [
      "relative error: 0.03825669560824202\n",
      "[[0.         0.30454668 0.6        0.10932462 0.27297641]\n",
      " [0.36956522 0.05111649 0.2        0.1275469  0.06376247]\n",
      " [0.89130435 0.50686037 0.4        0.29054139 0.57126193]\n",
      " [0.39130435 0.46919559 0.4        0.19725441 0.59528269]\n",
      " [0.41304348 0.25813828 0.2        0.16465678 0.30607234]\n",
      " [0.89130435 0.56873823 0.2        0.29174985 0.17917889]\n",
      " [0.39130435 0.40126446 0.2        0.18063653 0.06786255]\n",
      " [0.45652174 0.48802798 0.4        0.21163107 0.35820687]\n",
      " [0.         0.14823783 0.         0.06512171 0.00926728]\n",
      " [0.73913043 0.46650525 0.4        0.25890178 0.154592  ]\n",
      " [0.19565217 0.41148776 0.2        0.14614373 0.04523963]\n",
      " [0.         0.6236212  0.         0.13251088 0.18784446]\n",
      " [0.47826087 0.24535916 0.         0.1675107  0.06853769]\n",
      " [0.23913043 0.57384988 0.4        0.18406629 0.04686848]\n",
      " [0.60869565 0.50147969 0.2        0.23357303 0.64709759]]\n"
     ]
    },
    {
     "data": {
      "image/png": "[encoded data removed]",
      "text/plain": [
       "<Figure size 640x480 with 1 Axes>"
      ]
     },
     "metadata": {},
     "output_type": "display_data"
    }
   ],
   "source": [
    "with open('xzymodel.pkl', 'rb') as f:\n",
    "    bpn2 = pickle.load(f)\n",
    "\n",
    "YPred = bpn2.BPNForward(XTest)\n",
    "\n",
    "mse_err = np.mean((YTest - YPred) ** 2)\n",
    "print(f\"relative error: {mse_err}\")\n",
    "\n",
    "\n",
    "maxy, miny = np.array(maxy), np.array(miny)\n",
    "YPred = YPred * (maxy - miny) + miny\n",
    "YTestp = YTest * (maxy - miny) + miny\n",
    "\n",
    "Yprint = np.hstack((YPred, YTest))\n",
    "printA = np.hstack((XTest, Yprint))\n",
    "print(printA[: 15])\n",
    "\n",
    "plt.title('loss')\n",
    "plt.xlabel('epoches')\n",
    "plt.plot(bpn2.Y0, label='train')\n",
    "plt.legend()\n",
    "plt.savefig('./final.jpg')\n"
   ]
  }
 ],
 "metadata": {
  "kernelspec": {
   "display_name": "Python 3",
   "language": "python",
   "name": "python3"
  },
  "language_info": {
   "codemirror_mode": {
    "name": "ipython",
    "version": 3
   },
   "file_extension": ".py",
   "mimetype": "text/x-python",
   "name": "python",
   "nbconvert_exporter": "python",
   "pygments_lexer": "ipython3",
   "version": "3.9.18"
  }
 },
 "nbformat": 4,
 "nbformat_minor": 2
}
