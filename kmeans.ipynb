{
 "cells": [
  {
   "cell_type": "code",
   "execution_count": 1,
   "id": "initial_id",
   "metadata": {
    "collapsed": true,
    "ExecuteTime": {
     "end_time": "2023-09-25T03:01:16.373676Z",
     "start_time": "2023-09-25T03:01:15.999456Z"
    }
   },
   "outputs": [],
   "source": [
    "import numpy as np\n",
    "import pandas as pd"
   ]
  },
  {
   "cell_type": "code",
   "execution_count": 2,
   "outputs": [
    {
     "data": {
      "text/plain": "array([[5.1, 3.5, 1.4, 0.2],\n       [4.9, 3. , 1.4, 0.2],\n       [4.7, 3.2, 1.3, 0.2],\n       [4.6, 3.1, 1.5, 0.2],\n       [5. , 3.6, 1.4, 0.2],\n       [5.4, 3.9, 1.7, 0.4],\n       [4.6, 3.4, 1.4, 0.3],\n       [5. , 3.4, 1.5, 0.2],\n       [4.4, 2.9, 1.4, 0.2],\n       [4.9, 3.1, 1.5, 0.1]])"
     },
     "execution_count": 2,
     "metadata": {},
     "output_type": "execute_result"
    }
   ],
   "source": [
    "url = 'https://archive.ics.uci.edu/ml/machine-learning-databases/iris/iris.data'\n",
    "df = pd.read_csv(url, names=['sepal_length', 'sepal_width', 'petal_length', 'petal_width', 'class'])\n",
    "data = df.iloc[:, :-1].values\n",
    "data[:10]"
   ],
   "metadata": {
    "collapsed": false,
    "ExecuteTime": {
     "end_time": "2023-09-25T03:01:17.567912Z",
     "start_time": "2023-09-25T03:01:16.905040Z"
    }
   },
   "id": "d8b5ddabca738655"
  },
  {
   "cell_type": "code",
   "execution_count": 8,
   "outputs": [
    {
     "data": {
      "text/plain": "[5.843333333333335, 3.0540000000000007, 3.7586666666666693, 1.1986666666666672]"
     },
     "execution_count": 8,
     "metadata": {},
     "output_type": "execute_result"
    }
   ],
   "source": [
    "def cluster_centroids(aaa):\n",
    "    centroid = [0 for i in range(4)]\n",
    "    for j in range(4):\n",
    "        for points in aaa:\n",
    "            centroid[j] += points[j]\n",
    "        centroid[j] = centroid[j] / len(aaa)\n",
    "    return centroid\n",
    "cluster_centroids(data)"
   ],
   "metadata": {
    "collapsed": false,
    "ExecuteTime": {
     "end_time": "2023-09-25T03:08:01.831692Z",
     "start_time": "2023-09-25T03:08:01.826318Z"
    }
   },
   "id": "1f5f587e6a980f7d"
  },
  {
   "cell_type": "code",
   "execution_count": 8,
   "outputs": [],
   "source": [
    "def centroids_distance(c1, c2):\n",
    "    sum_dis =0\n",
    "    for i in range(len(c1)):\n",
    "        sum_dis += (c1[i] - c2[i])**2\n",
    "    return np.sqrt(sum_dis)"
   ],
   "metadata": {
    "collapsed": false,
    "ExecuteTime": {
     "end_time": "2023-09-24T06:58:30.575221Z",
     "start_time": "2023-09-24T06:58:30.566741Z"
    }
   },
   "id": "fc243052eb493878"
  },
  {
   "cell_type": "code",
   "execution_count": 13,
   "outputs": [],
   "source": [
    "def convert_index_to_point(cluster):\n",
    "    points = []\n",
    "    for i in cluster:\n",
    "        points.append(data[i])\n",
    "    return points\n",
    "# cluster = [0, 2, 3, 4]"
   ],
   "metadata": {
    "collapsed": false,
    "ExecuteTime": {
     "end_time": "2023-09-24T07:12:15.807044Z",
     "start_time": "2023-09-24T07:12:15.798974Z"
    }
   },
   "id": "a7233032f8a01be2"
  },
  {
   "cell_type": "code",
   "execution_count": 37,
   "outputs": [],
   "source": [
    "clusters = []\n",
    "for point in range(len(data)):\n",
    "    clusters.append([point])\n"
   ],
   "metadata": {
    "collapsed": false,
    "ExecuteTime": {
     "end_time": "2023-09-24T07:27:16.382780Z",
     "start_time": "2023-09-24T07:27:16.373036Z"
    }
   },
   "id": "a64184bfc8f71fd5"
  },
  {
   "cell_type": "code",
   "execution_count": 35,
   "outputs": [
    {
     "data": {
      "text/plain": "[[0],\n [1],\n [2],\n [3],\n [4],\n [5],\n [6],\n [7],\n [8],\n [9],\n [10],\n [11],\n [12],\n [13],\n [14],\n [15],\n [16],\n [17],\n [18],\n [19],\n [20],\n [21],\n [22],\n [23],\n [24],\n [25],\n [26],\n [27],\n [28],\n [29],\n [30],\n [31],\n [32],\n [33],\n [34],\n [35],\n [36],\n [37],\n [38],\n [39],\n [40],\n [41],\n [42],\n [43],\n [44],\n [45],\n [46],\n [47],\n [48],\n [49],\n [50],\n [51],\n [52],\n [53],\n [54],\n [55],\n [56],\n [57],\n [58],\n [59],\n [60],\n [61],\n [62],\n [63],\n [64],\n [65],\n [66],\n [67],\n [68],\n [69],\n [70],\n [71],\n [72],\n [73],\n [74],\n [75],\n [76],\n [77],\n [78],\n [79],\n [80],\n [81],\n [82],\n [83],\n [84],\n [85],\n [86],\n [87],\n [88],\n [89],\n [90],\n [91],\n [92],\n [93],\n [94],\n [95],\n [96],\n [97],\n [98],\n [99],\n [100],\n [101],\n [102],\n [103],\n [104],\n [105],\n [106],\n [107],\n [108],\n [109],\n [110],\n [111],\n [112],\n [113],\n [114],\n [115],\n [116],\n [117],\n [118],\n [119],\n [120],\n [121],\n [122],\n [123],\n [124],\n [125],\n [126],\n [127],\n [128],\n [129],\n [130],\n [131],\n [132],\n [133],\n [134],\n [135],\n [136],\n [137],\n [138],\n [139],\n [140],\n [141],\n [142],\n [143],\n [144],\n [145],\n [146],\n [147],\n [148],\n [149]]"
     },
     "execution_count": 35,
     "metadata": {},
     "output_type": "execute_result"
    }
   ],
   "source": [
    "clusters"
   ],
   "metadata": {
    "collapsed": false,
    "ExecuteTime": {
     "end_time": "2023-09-24T07:26:37.043882Z",
     "start_time": "2023-09-24T07:26:37.029350Z"
    }
   },
   "id": "c41d94a66751f51"
  },
  {
   "cell_type": "code",
   "execution_count": 38,
   "outputs": [
    {
     "name": "stdout",
     "output_type": "stream",
     "text": [
      "min distance =  0.0  cluster num = %d 150\n",
      "min distance =  0.0  cluster num = %d 149\n",
      "min distance =  0.0  cluster num = %d 148\n",
      "min distance =  0.09999999999999964  cluster num = %d 147\n",
      "min distance =  0.09999999999999998  cluster num = %d 146\n",
      "min distance =  0.10000000000000009  cluster num = %d 145\n",
      "min distance =  0.10000000000000053  cluster num = %d 144\n",
      "min distance =  0.14142135623730928  cluster num = %d 143\n",
      "min distance =  0.1414213562373093  cluster num = %d 142\n",
      "min distance =  0.1414213562373093  cluster num = %d 141\n",
      "min distance =  0.1414213562373093  cluster num = %d 140\n",
      "min distance =  0.1414213562373093  cluster num = %d 139\n",
      "min distance =  0.14142135623730948  cluster num = %d 138\n",
      "min distance =  0.14142135623730964  cluster num = %d 137\n",
      "min distance =  0.14142135623730964  cluster num = %d 136\n",
      "min distance =  0.13228756555322987  cluster num = %d 135\n",
      "min distance =  0.14142135623730964  cluster num = %d 134\n",
      "min distance =  0.14142135623730964  cluster num = %d 133\n",
      "min distance =  0.14142135623730964  cluster num = %d 132\n",
      "min distance =  0.14142135623730986  cluster num = %d 131\n",
      "min distance =  0.14142135623730995  cluster num = %d 130\n",
      "min distance =  0.14142135623730995  cluster num = %d 129\n",
      "min distance =  0.14790199457749031  cluster num = %d 128\n",
      "min distance =  0.15811388300841892  cluster num = %d 127\n",
      "min distance =  0.1581138830084196  cluster num = %d 126\n",
      "min distance =  0.17320508075688762  cluster num = %d 125\n",
      "min distance =  0.17320508075688767  cluster num = %d 124\n",
      "min distance =  0.17320508075688787  cluster num = %d 123\n",
      "min distance =  0.17320508075688815  cluster num = %d 122\n",
      "min distance =  0.18559214542766783  cluster num = %d 121\n",
      "min distance =  0.1863389981249822  cluster num = %d 120\n",
      "min distance =  0.18708286933869703  cluster num = %d 119\n",
      "min distance =  0.18708286933869722  cluster num = %d 118\n",
      "min distance =  0.19882467150733585  cluster num = %d 117\n",
      "min distance =  0.1999999999999993  cluster num = %d 116\n",
      "min distance =  0.1999999999999998  cluster num = %d 115\n",
      "min distance =  0.20000000000000018  cluster num = %d 114\n",
      "min distance =  0.20000000000000018  cluster num = %d 113\n",
      "min distance =  0.2121320343559641  cluster num = %d 112\n",
      "min distance =  0.21213203435596442  cluster num = %d 111\n",
      "min distance =  0.21278575558006216  cluster num = %d 110\n",
      "min distance =  0.21969366427470982  cluster num = %d 109\n",
      "min distance =  0.22047927592204933  cluster num = %d 108\n",
      "min distance =  0.2236067977499791  cluster num = %d 107\n",
      "min distance =  0.22360679774997935  cluster num = %d 106\n",
      "min distance =  0.22360679774997935  cluster num = %d 105\n",
      "min distance =  0.2345207879911715  cluster num = %d 104\n",
      "min distance =  0.2449489742783171  cluster num = %d 103\n",
      "min distance =  0.24494897427831766  cluster num = %d 102\n",
      "min distance =  0.24494897427831785  cluster num = %d 101\n",
      "min distance =  0.24494897427831822  cluster num = %d 100\n",
      "min distance =  0.25495097567963887  cluster num = %d 99\n",
      "min distance =  0.25495097567963904  cluster num = %d 98\n",
      "min distance =  0.25495097567963926  cluster num = %d 97\n",
      "min distance =  0.2560381915956204  cluster num = %d 96\n",
      "min distance =  0.2598076211353317  cluster num = %d 95\n",
      "min distance =  0.26457513110645864  cluster num = %d 94\n",
      "min distance =  0.26457513110645897  cluster num = %d 93\n",
      "min distance =  0.26457513110645914  cluster num = %d 92\n",
      "min distance =  0.2645751311064593  cluster num = %d 91\n",
      "min distance =  0.26457513110645936  cluster num = %d 90\n",
      "min distance =  0.26457513110645964  cluster num = %d 89\n",
      "min distance =  0.2748737083745108  cluster num = %d 88\n",
      "min distance =  0.27838821814150133  cluster num = %d 87\n",
      "min distance =  0.2793842435706702  cluster num = %d 86\n",
      "min distance =  0.282842712474619  cluster num = %d 85\n",
      "min distance =  0.288675134594813  cluster num = %d 84\n",
      "min distance =  0.2924988129130705  cluster num = %d 83\n",
      "min distance =  0.29627314724385273  cluster num = %d 82\n",
      "min distance =  0.2999999999999998  cluster num = %d 81\n",
      "min distance =  0.2999999999999998  cluster num = %d 80\n",
      "min distance =  0.30270131552365753  cluster num = %d 79\n",
      "min distance =  0.30310889132455315  cluster num = %d 78\n",
      "min distance =  0.3041381265149111  cluster num = %d 77\n",
      "min distance =  0.3109126351029611  cluster num = %d 76\n",
      "min distance =  0.31224989991992  cluster num = %d 75\n",
      "min distance =  0.3162277660168378  cluster num = %d 74\n",
      "min distance =  0.3240370349203931  cluster num = %d 73\n",
      "min distance =  0.32685557651848995  cluster num = %d 72\n",
      "min distance =  0.33166247903553975  cluster num = %d 71\n",
      "min distance =  0.33166247903553986  cluster num = %d 70\n",
      "min distance =  0.33499585403736265  cluster num = %d 69\n",
      "min distance =  0.3464101615137754  cluster num = %d 68\n",
      "min distance =  0.3397177700169753  cluster num = %d 67\n",
      "min distance =  0.3464101615137755  cluster num = %d 66\n",
      "min distance =  0.3464101615137756  cluster num = %d 65\n",
      "min distance =  0.3480102169636853  cluster num = %d 64\n",
      "min distance =  0.3553479834600336  cluster num = %d 63\n",
      "min distance =  0.3570714214271419  cluster num = %d 62\n",
      "min distance =  0.33499585403736315  cluster num = %d 61\n",
      "min distance =  0.36400549446402547  cluster num = %d 60\n",
      "min distance =  0.3663572144943681  cluster num = %d 59\n",
      "min distance =  0.37165171868296243  cluster num = %d 58\n",
      "min distance =  0.3741657386773946  cluster num = %d 57\n",
      "min distance =  0.3807886552931952  cluster num = %d 56\n",
      "min distance =  0.38181310873253216  cluster num = %d 55\n",
      "min distance =  0.38729833462074204  cluster num = %d 54\n",
      "min distance =  0.39299420408505364  cluster num = %d 53\n",
      "min distance =  0.39686269665968815  cluster num = %d 52\n",
      "min distance =  0.39747466725706065  cluster num = %d 51\n",
      "min distance =  0.40779897008207316  cluster num = %d 50\n",
      "min distance =  0.4096414559697051  cluster num = %d 49\n",
      "min distance =  0.4109744517606911  cluster num = %d 48\n",
      "min distance =  0.4123105625617661  cluster num = %d 47\n",
      "min distance =  0.41306779104645774  cluster num = %d 46\n",
      "min distance =  0.42426406871192857  cluster num = %d 45\n",
      "min distance =  0.4133198922545745  cluster num = %d 44\n",
      "min distance =  0.4291464396527914  cluster num = %d 43\n",
      "min distance =  0.44721359549995804  cluster num = %d 42\n",
      "min distance =  0.46090189363416123  cluster num = %d 41\n",
      "min distance =  0.4663689526544406  cluster num = %d 40\n",
      "min distance =  0.4789311015167003  cluster num = %d 39\n",
      "min distance =  0.48138977046787285  cluster num = %d 38\n",
      "min distance =  0.4845616575834288  cluster num = %d 37\n",
      "min distance =  0.4838198349107459  cluster num = %d 36\n",
      "min distance =  0.48867166891482494  cluster num = %d 35\n",
      "min distance =  0.48218253804964845  cluster num = %d 34\n",
      "min distance =  0.48965488332284146  cluster num = %d 33\n",
      "min distance =  0.49311668243935897  cluster num = %d 32\n",
      "min distance =  0.4952152009360125  cluster num = %d 31\n",
      "min distance =  0.5009739996717468  cluster num = %d 30\n",
      "min distance =  0.5011098792790971  cluster num = %d 29\n",
      "min distance =  0.516478460344669  cluster num = %d 28\n",
      "min distance =  0.5190067892978639  cluster num = %d 27\n",
      "min distance =  0.47881025392033955  cluster num = %d 26\n",
      "min distance =  0.5221110992882645  cluster num = %d 25\n",
      "min distance =  0.5884222469797876  cluster num = %d 24\n",
      "min distance =  0.6037118273825194  cluster num = %d 23\n",
      "min distance =  0.6144102863722253  cluster num = %d 22\n",
      "min distance =  0.6445811279102586  cluster num = %d 21\n",
      "min distance =  0.6494190883817401  cluster num = %d 20\n",
      "min distance =  0.6557438524302  cluster num = %d 19\n",
      "min distance =  0.6969320524371693  cluster num = %d 18\n",
      "min distance =  0.7053247430774553  cluster num = %d 17\n",
      "min distance =  0.7470809100216684  cluster num = %d 16\n",
      "min distance =  0.7087184311746506  cluster num = %d 15\n",
      "min distance =  0.7549834435270755  cluster num = %d 14\n",
      "min distance =  0.8239945037127129  cluster num = %d 13\n",
      "min distance =  0.832499582916145  cluster num = %d 12\n",
      "min distance =  0.8732124598286499  cluster num = %d 11\n",
      "min distance =  0.873618839393479  cluster num = %d 10\n",
      "min distance =  0.9235855153052334  cluster num = %d 9\n",
      "min distance =  0.9888185859744879  cluster num = %d 8\n",
      "min distance =  1.1725800533927226  cluster num = %d 7\n",
      "min distance =  1.2148816814817818  cluster num = %d 6\n",
      "min distance =  1.2646443298939278  cluster num = %d 5\n",
      "min distance =  1.698551670623469  cluster num = %d 4\n"
     ]
    }
   ],
   "source": [
    "while len(clusters) > 3:\n",
    "    centroids = []\n",
    "    for cluster in clusters:\n",
    "        centroids.append(cluster_centroids(convert_index_to_point(cluster)))\n",
    "        \n",
    "    matrix = [[0 for i in range(len(centroids))] for j in range(len(centroids))]\n",
    "    \n",
    "    min_dis = [-1, -1, np.inf]\n",
    "    \n",
    "    for i in range(len(centroids)):\n",
    "        for j in range(len(centroids)):\n",
    "            matrix[i][j] = centroids_distance(centroids[i], centroids[j])\n",
    "            if i !=j and matrix[i][j] < min_dis[2]:\n",
    "                min_dis = [i, j, matrix[i][j]]\n",
    "    print(\"min distance = \", min_dis[2], \" cluster num = %d\", len(clusters))\n",
    "    clusters[min_dis[0]] += clusters[min_dis[1]]\n",
    "    del clusters[min_dis[1]]\n",
    "    "
   ],
   "metadata": {
    "collapsed": false,
    "ExecuteTime": {
     "end_time": "2023-09-24T07:27:21.319755Z",
     "start_time": "2023-09-24T07:27:17.761341Z"
    }
   },
   "id": "3191d5a06be90a39"
  },
  {
   "cell_type": "code",
   "execution_count": 40,
   "outputs": [
    {
     "name": "stdout",
     "output_type": "stream",
     "text": [
      "[[0, 17, 27, 28, 7, 39, 4, 40, 49, 10, 48, 19, 21, 46, 20, 31, 36, 23, 26, 43, 44, 1, 45, 12, 9, 34, 37, 25, 29, 30, 2, 3, 47, 6, 35, 11, 24, 8, 38, 42, 13, 22, 5, 18, 16, 32, 33, 14, 15, 41], [50, 52, 86, 76, 77, 54, 58, 65, 75, 51, 56, 85, 63, 91, 78, 73, 71, 74, 97, 70, 127, 138, 149, 72, 83, 133, 123, 126, 146, 101, 142, 113, 121, 114, 68, 87, 119, 53, 89, 69, 80, 81, 64, 79, 59, 55, 90, 67, 82, 92, 88, 95, 96, 94, 99, 61, 66, 84, 62, 106, 57, 93, 98, 60], [100, 103, 116, 137, 111, 104, 128, 132, 110, 147, 112, 139, 141, 145, 120, 143, 140, 144, 124, 115, 136, 148, 108, 134, 102, 125, 129, 107, 130, 135, 105, 122, 118, 109, 117, 131]]\n"
     ]
    }
   ],
   "source": [
    "print(clusters)"
   ],
   "metadata": {
    "collapsed": false,
    "ExecuteTime": {
     "end_time": "2023-09-24T07:28:02.748645Z",
     "start_time": "2023-09-24T07:28:02.742025Z"
    }
   },
   "id": "a7587efe4a7a1f4b"
  },
  {
   "cell_type": "code",
   "execution_count": 43,
   "outputs": [
    {
     "name": "stdout",
     "output_type": "stream",
     "text": [
      "Cluster 1 0 Iris-setosa\n",
      "Cluster 1 17 Iris-setosa\n",
      "Cluster 1 27 Iris-setosa\n",
      "Cluster 1 28 Iris-setosa\n",
      "Cluster 1 7 Iris-setosa\n",
      "Cluster 1 39 Iris-setosa\n",
      "Cluster 1 4 Iris-setosa\n",
      "Cluster 1 40 Iris-setosa\n",
      "Cluster 1 49 Iris-setosa\n",
      "Cluster 1 10 Iris-setosa\n",
      "Cluster 1 48 Iris-setosa\n",
      "Cluster 1 19 Iris-setosa\n",
      "Cluster 1 21 Iris-setosa\n",
      "Cluster 1 46 Iris-setosa\n",
      "Cluster 1 20 Iris-setosa\n",
      "Cluster 1 31 Iris-setosa\n",
      "Cluster 1 36 Iris-setosa\n",
      "Cluster 1 23 Iris-setosa\n",
      "Cluster 1 26 Iris-setosa\n",
      "Cluster 1 43 Iris-setosa\n",
      "Cluster 1 44 Iris-setosa\n",
      "Cluster 1 1 Iris-setosa\n",
      "Cluster 1 45 Iris-setosa\n",
      "Cluster 1 12 Iris-setosa\n",
      "Cluster 1 9 Iris-setosa\n",
      "Cluster 1 34 Iris-setosa\n",
      "Cluster 1 37 Iris-setosa\n",
      "Cluster 1 25 Iris-setosa\n",
      "Cluster 1 29 Iris-setosa\n",
      "Cluster 1 30 Iris-setosa\n",
      "Cluster 1 2 Iris-setosa\n",
      "Cluster 1 3 Iris-setosa\n",
      "Cluster 1 47 Iris-setosa\n",
      "Cluster 1 6 Iris-setosa\n",
      "Cluster 1 35 Iris-setosa\n",
      "Cluster 1 11 Iris-setosa\n",
      "Cluster 1 24 Iris-setosa\n",
      "Cluster 1 8 Iris-setosa\n",
      "Cluster 1 38 Iris-setosa\n",
      "Cluster 1 42 Iris-setosa\n",
      "Cluster 1 13 Iris-setosa\n",
      "Cluster 1 22 Iris-setosa\n",
      "Cluster 1 5 Iris-setosa\n",
      "Cluster 1 18 Iris-setosa\n",
      "Cluster 1 16 Iris-setosa\n",
      "Cluster 1 32 Iris-setosa\n",
      "Cluster 1 33 Iris-setosa\n",
      "Cluster 1 14 Iris-setosa\n",
      "Cluster 1 15 Iris-setosa\n",
      "Cluster 1 41 Iris-setosa\n",
      "Cluster 2 50 Iris-versicolor\n",
      "Cluster 2 52 Iris-versicolor\n",
      "Cluster 2 86 Iris-versicolor\n",
      "Cluster 2 76 Iris-versicolor\n",
      "Cluster 2 77 Iris-versicolor\n",
      "Cluster 2 54 Iris-versicolor\n",
      "Cluster 2 58 Iris-versicolor\n",
      "Cluster 2 65 Iris-versicolor\n",
      "Cluster 2 75 Iris-versicolor\n",
      "Cluster 2 51 Iris-versicolor\n",
      "Cluster 2 56 Iris-versicolor\n",
      "Cluster 2 85 Iris-versicolor\n",
      "Cluster 2 63 Iris-versicolor\n",
      "Cluster 2 91 Iris-versicolor\n",
      "Cluster 2 78 Iris-versicolor\n",
      "Cluster 2 73 Iris-versicolor\n",
      "Cluster 2 71 Iris-versicolor\n",
      "Cluster 2 74 Iris-versicolor\n",
      "Cluster 2 97 Iris-versicolor\n",
      "Cluster 2 70 Iris-versicolor\n",
      "Cluster 2 127 Iris-virginica\n",
      "Cluster 2 138 Iris-virginica\n",
      "Cluster 2 149 Iris-virginica\n",
      "Cluster 2 72 Iris-versicolor\n",
      "Cluster 2 83 Iris-versicolor\n",
      "Cluster 2 133 Iris-virginica\n",
      "Cluster 2 123 Iris-virginica\n",
      "Cluster 2 126 Iris-virginica\n",
      "Cluster 2 146 Iris-virginica\n",
      "Cluster 2 101 Iris-virginica\n",
      "Cluster 2 142 Iris-virginica\n",
      "Cluster 2 113 Iris-virginica\n",
      "Cluster 2 121 Iris-virginica\n",
      "Cluster 2 114 Iris-virginica\n",
      "Cluster 2 68 Iris-versicolor\n",
      "Cluster 2 87 Iris-versicolor\n",
      "Cluster 2 119 Iris-virginica\n",
      "Cluster 2 53 Iris-versicolor\n",
      "Cluster 2 89 Iris-versicolor\n",
      "Cluster 2 69 Iris-versicolor\n",
      "Cluster 2 80 Iris-versicolor\n",
      "Cluster 2 81 Iris-versicolor\n",
      "Cluster 2 64 Iris-versicolor\n",
      "Cluster 2 79 Iris-versicolor\n",
      "Cluster 2 59 Iris-versicolor\n",
      "Cluster 2 55 Iris-versicolor\n",
      "Cluster 2 90 Iris-versicolor\n",
      "Cluster 2 67 Iris-versicolor\n",
      "Cluster 2 82 Iris-versicolor\n",
      "Cluster 2 92 Iris-versicolor\n",
      "Cluster 2 88 Iris-versicolor\n",
      "Cluster 2 95 Iris-versicolor\n",
      "Cluster 2 96 Iris-versicolor\n",
      "Cluster 2 94 Iris-versicolor\n",
      "Cluster 2 99 Iris-versicolor\n",
      "Cluster 2 61 Iris-versicolor\n",
      "Cluster 2 66 Iris-versicolor\n",
      "Cluster 2 84 Iris-versicolor\n",
      "Cluster 2 62 Iris-versicolor\n",
      "Cluster 2 106 Iris-virginica\n",
      "Cluster 2 57 Iris-versicolor\n",
      "Cluster 2 93 Iris-versicolor\n",
      "Cluster 2 98 Iris-versicolor\n",
      "Cluster 2 60 Iris-versicolor\n",
      "Cluster 3 100 Iris-virginica\n",
      "Cluster 3 103 Iris-virginica\n",
      "Cluster 3 116 Iris-virginica\n",
      "Cluster 3 137 Iris-virginica\n",
      "Cluster 3 111 Iris-virginica\n",
      "Cluster 3 104 Iris-virginica\n",
      "Cluster 3 128 Iris-virginica\n",
      "Cluster 3 132 Iris-virginica\n",
      "Cluster 3 110 Iris-virginica\n",
      "Cluster 3 147 Iris-virginica\n",
      "Cluster 3 112 Iris-virginica\n",
      "Cluster 3 139 Iris-virginica\n",
      "Cluster 3 141 Iris-virginica\n",
      "Cluster 3 145 Iris-virginica\n",
      "Cluster 3 120 Iris-virginica\n",
      "Cluster 3 143 Iris-virginica\n",
      "Cluster 3 140 Iris-virginica\n",
      "Cluster 3 144 Iris-virginica\n",
      "Cluster 3 124 Iris-virginica\n",
      "Cluster 3 115 Iris-virginica\n",
      "Cluster 3 136 Iris-virginica\n",
      "Cluster 3 148 Iris-virginica\n",
      "Cluster 3 108 Iris-virginica\n",
      "Cluster 3 134 Iris-virginica\n",
      "Cluster 3 102 Iris-virginica\n",
      "Cluster 3 125 Iris-virginica\n",
      "Cluster 3 129 Iris-virginica\n",
      "Cluster 3 107 Iris-virginica\n",
      "Cluster 3 130 Iris-virginica\n",
      "Cluster 3 135 Iris-virginica\n",
      "Cluster 3 105 Iris-virginica\n",
      "Cluster 3 122 Iris-virginica\n",
      "Cluster 3 118 Iris-virginica\n",
      "Cluster 3 109 Iris-virginica\n",
      "Cluster 3 117 Iris-virginica\n",
      "Cluster 3 131 Iris-virginica\n"
     ]
    }
   ],
   "source": [
    "labels = df.iloc[:, -1].values\n",
    "for i in range(3):\n",
    "    cluster = clusters[i]\n",
    "    for j in range(len(cluster)):\n",
    "        print(\"Cluster\", (i+1), cluster[j], labels[cluster[j]])"
   ],
   "metadata": {
    "collapsed": false,
    "ExecuteTime": {
     "end_time": "2023-09-24T07:31:14.089698Z",
     "start_time": "2023-09-24T07:31:14.079788Z"
    }
   },
   "id": "6c58c82d1b0d9283"
  },
  {
   "cell_type": "code",
   "execution_count": 48,
   "outputs": [
    {
     "name": "stdout",
     "output_type": "stream",
     "text": [
      "Accuracy = 90.66666666666666 %\n"
     ]
    }
   ],
   "source": [
    "err_num = 0\n",
    "for i in range(3):\n",
    "    cluster = clusters[i]\n",
    "    for j in range(len(cluster)):\n",
    "        if i ==0 and labels[cluster[j]] != \"Iris-setosa\":\n",
    "            err_num+=1\n",
    "        elif i ==1 and labels[cluster[j]] != \"Iris-versicolor\":\n",
    "            err_num +=1\n",
    "        elif i ==2 and labels[cluster[j]] != \"Iris-virginica\":\n",
    "            err_num +=1\n",
    "print(\"Accuracy =\", (1-err_num/len(data))*100, \"%\")"
   ],
   "metadata": {
    "collapsed": false,
    "ExecuteTime": {
     "end_time": "2023-09-24T07:38:21.356038Z",
     "start_time": "2023-09-24T07:38:21.347428Z"
    }
   },
   "id": "9e6b9c7d8e3fd98b"
  }
 ],
 "metadata": {
  "kernelspec": {
   "display_name": "Python 3",
   "language": "python",
   "name": "python3"
  },
  "language_info": {
   "codemirror_mode": {
    "name": "ipython",
    "version": 2
   },
   "file_extension": ".py",
   "mimetype": "text/x-python",
   "name": "python",
   "nbconvert_exporter": "python",
   "pygments_lexer": "ipython2",
   "version": "2.7.6"
  }
 },
 "nbformat": 4,
 "nbformat_minor": 5
}
