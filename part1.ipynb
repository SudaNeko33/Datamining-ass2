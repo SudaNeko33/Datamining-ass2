{
 "cells": [
  {
   "cell_type": "code",
   "execution_count": 2,
   "metadata": {},
   "outputs": [],
   "source": [
    "import numpy as np\n",
    "from scipy.special import softmax\n",
    "import matplotlib.pyplot as plt\n",
    "from PIL import Image\n",
    "import pickle\n"
   ]
  },
  {
   "cell_type": "code",
   "execution_count": 3,
   "metadata": {},
   "outputs": [],
   "source": [
    "class NeuronFunction:\n",
    "    # 作用于神经元以修改各参数的函数\n",
    "    def NFForward(self, input):\n",
    "        # 由输入矩阵进行参数运算得到输出矩阵\n",
    "        self.input = input\n",
    "        self.output = self.NFSubOutput()   # 根据要求调用不同的激活函数\n",
    "        return self.output\n",
    "    \n",
    "    def NFBackward(self, errorgrad):\n",
    "        # 由后一损失梯度得到前一损失梯度\n",
    "        return self.NFSubInputGrad(errorgrad) # 根据要求乘上不同的激活函数导数\n",
    "    \n",
    "class Sigmoid(NeuronFunction):\n",
    "    # 与激活函数Sigmoid()相关的操作\n",
    "    def NFSubOutput(self):\n",
    "        return 1.0 / (1.0 + np.exp(-self.input))\n",
    "\n",
    "    def NFSubInputGrad(self, errorgrad):\n",
    "        return self.output * (1.0 - self.output) * errorgrad\n",
    "    \n",
    "class ParamFunction(NeuronFunction):\n",
    "    # 将关于weight和bias的操作的超类也定义为NeuronFunction的子类，后续反向传播统一调用即可\n",
    "    def __init__(self, param):\n",
    "        self.param = param  # 增加变量param\n",
    "    \n",
    "    def NFBackward(self, errorgrad):\n",
    "        self.paramgrad = self.PFSubParamGrad(errorgrad)\n",
    "        return super().NFBackward(errorgrad)\n",
    "\n",
    "class RegressionEnd(NeuronFunction):\n",
    "    # 回归任务中，最后一层神经元不使用Sigmoid，需要特殊操作\n",
    "    def NFSubOutput(self):\n",
    "        return self.input   # 直接输出输入\n",
    "    \n",
    "    def NFSubInputGrad(self, errorgrad):\n",
    "        return errorgrad   # 不做任何操作\n",
    "\n",
    "class Weight(ParamFunction):\n",
    "    # 与权重weight相关的操作\n",
    "    def __init__(self, param):\n",
    "        super().__init__(param)\n",
    "    \n",
    "    def NFSubOutput(self):\n",
    "        return np.dot(self.input, self.param)\n",
    "    \n",
    "    def NFSubInputGrad(self, errorgrad):\n",
    "        return np.dot(errorgrad, self.param.T)\n",
    "    \n",
    "    def PFSubParamGrad(self, errorgrad):\n",
    "        return np.dot(self.input.T, errorgrad)\n",
    "\n",
    "class Bias(ParamFunction):\n",
    "    # 与偏置bias相关的操作\n",
    "    def __init__(self, param):\n",
    "        super().__init__(param)\n",
    "    \n",
    "    def NFSubOutput(self):\n",
    "        return self.input + self.param\n",
    "    \n",
    "    def NFSubInputGrad(self, errorgrad):\n",
    "        return errorgrad\n",
    "    \n",
    "    def PFSubParamGrad(self, errorgrad):\n",
    "        return np.dot(np.ones((1, self.input.shape[0])), errorgrad)"
   ]
  },
  {
   "cell_type": "code",
   "execution_count": 4,
   "metadata": {},
   "outputs": [],
   "source": [
    "class Error:\n",
    "    # 计算误差以调整优化参数\n",
    "    def EForward(self, result, expected):\n",
    "        # 由损失函数求出损失值\n",
    "        self.result = result\n",
    "        self.expected = expected\n",
    "        return self.ESubOutput()    # 根据指定损失函数调用子类函数\n",
    "    \n",
    "    def EBackward(self):\n",
    "        # 由输出值求出其对损失函数的梯度\n",
    "        self.inputGrad = self.ESubInputGrad()\n",
    "        return self.inputGrad\n",
    "\n",
    "class SoftMaxError(Error):\n",
    "    # Softmax交叉熵损失函数\n",
    "    def __init__(self, eps = 1e-9):\n",
    "        super().__init__()\n",
    "        self.eps = eps\n",
    "    \n",
    "    def ESubOutput(self):\n",
    "        self.smResult = softmax(self.result, axis=1)\n",
    "        self.smResult = np.clip(self.smResult, self.eps, 1 - self.eps)\n",
    "        self.error = -1.0 * self.expected * np.log(self.smResult)\n",
    "        return np.sum(self.error) / self.result.shape[0]\n",
    "    \n",
    "    def ESubInputGrad(self):\n",
    "        return (self.smResult - self.expected) / self.result.shape[0]\n",
    "    \n",
    "class MeanSquareError(Error):\n",
    "    # 均方误差\n",
    "    def ESubOutput(self):\n",
    "        return (np.sum(np.power(self.result - self.expected, 2)) / self.result.shape[0])\n",
    "    \n",
    "    def ESubInputGrad(self):\n",
    "        return (2.0 * (self.result - self.expected) / self.result.shape[0])"
   ]
  },
  {
   "cell_type": "code",
   "execution_count": 5,
   "metadata": {},
   "outputs": [],
   "source": [
    "import numpy as np\n",
    "\n",
    "class Layer:\n",
    "    # 神经网络层，对每一个网络层创建一个此类对象\n",
    "    def __init__(self, quantity, activation):\n",
    "        self.params = []\n",
    "        self.neuronFunctions: list[NeuronFunction] = []\n",
    "        self.established = False\n",
    "        self.quantity = quantity\n",
    "        self.activation = activation\n",
    "\n",
    "    def LForward(self, input):\n",
    "        # 由输入矩阵进行参数运算得到输出矩阵\n",
    "        if self.established == False:\n",
    "            # 初始化网络参数\n",
    "            self.params = []\n",
    "            self.params.append(np.random.randn(input.shape[1], self.quantity) * 0.1)\n",
    "            self.params.append(-np.random.randn(1, self.quantity))\n",
    "            self.neuronFunctions = [Weight(self.params[0]), Bias(self.params[1]), self.activation]\n",
    "            self.established = True\n",
    "        self.input = input\n",
    "        for f in self.neuronFunctions:\n",
    "            input = f.NFForward(input)\n",
    "        self.output = input\n",
    "        return self.output\n",
    "    \n",
    "    def LBackward(self, errorgrad):\n",
    "        # 由后一损失梯度得到前一损失梯度\n",
    "        for f in reversed(self.neuronFunctions):\n",
    "            errorgrad = f.NFBackward(errorgrad)\n",
    "        self.paramsgrads = []\n",
    "        for f in self.neuronFunctions:\n",
    "            # 本步只作用于与weight和bias有关的操作\n",
    "            if issubclass(f.__class__, ParamFunction):\n",
    "                self.paramsgrads.append(f.paramgrad)\n",
    "        return errorgrad\n"
   ]
  },
  {
   "cell_type": "code",
   "execution_count": 6,
   "metadata": {},
   "outputs": [],
   "source": [
    "class BPNetwork:\n",
    "    # 构造BP网络\n",
    "    def __init__(self, layers, error):\n",
    "        self.layers: list[Layer] = layers\n",
    "        self.error: Error = error\n",
    "        self.Y0 = []\n",
    "        self.Y1 = []\n",
    "        self.Y2 = []\n",
    "    \n",
    "    def BPNForward(self, batch):\n",
    "        # 前向传播\n",
    "        for l in self.layers:\n",
    "            batch = l.LForward(batch)\n",
    "        return batch\n",
    "\n",
    "    def BPNBackward(self, ErrorGrad):\n",
    "        # 反向传播\n",
    "        for l in reversed(self.layers):\n",
    "            ErrorGrad = l.LBackward(ErrorGrad)\n",
    "    \n",
    "    def BPNBatchTrain(self, batch, expected):\n",
    "        results = self.BPNForward(batch)\n",
    "        error = self.error.EForward(results, expected)\n",
    "        self.BPNBackward(self.error.EBackward())\n",
    "        return error\n",
    "    \n",
    "    # 下面两个函数使用生成器，用于逐层优化网络参数\n",
    "    def ParamsGenerator(self):\n",
    "        for l in self.layers:\n",
    "            yield from l.params\n",
    "    \n",
    "    def ParamGradsGenerator(self):\n",
    "        for l in self.layers:\n",
    "            yield from l.paramsgrads\n",
    "    \n",
    "    def BatchGenerator(self, x, y, BatchSize):\n",
    "        # 使用生成器实现\n",
    "        for i in range(0, x.shape[0], BatchSize):\n",
    "            XBatch, YBatch = x[i:i+BatchSize], y[i:i+BatchSize]\n",
    "            yield XBatch, YBatch\n",
    "    \n",
    "    def BPNTrain(self, XTrain, YTrain, epoches, interval, BatchSize, LearningRate):\n",
    "        for e in range(epoches):\n",
    "                \n",
    "            if (e) % interval == 0:\n",
    "                r = self.BPNForward(XTrain)\n",
    "                er = self.error.EForward(r, YTrain)\n",
    "                self.Y0.append(er)\n",
    "                # results = self.BPNForward(XTest)\n",
    "                # error = self.error.EForward(results, YTest)\n",
    "\n",
    "                print(f\"\\repoch: {e}/{epoches}, error = {er}\\r\", end=\"\")\n",
    "\n",
    "            shuffle = np.random.permutation(XTrain.shape[0])    # 打乱顺序\n",
    "            XTrain, YTrain = XTrain[shuffle], YTrain[shuffle]\n",
    "            for XBatch, YBatch in self.BatchGenerator(XTrain, YTrain, BatchSize):\n",
    "                self.BPNBatchTrain(XBatch, YBatch)\n",
    "                for (param, paramGrad) in zip(self.ParamsGenerator(), self.ParamGradsGenerator()):\n",
    "                    param -= LearningRate * paramGrad\n",
    "    \n",
    "    def BPNPredict(self, classify, XTest, YTest, cr=[]):\n",
    "        if classify:\n",
    "            results = self.BPNForward(XTest)\n",
    "            accuracy = np.equal(np.argmax(results, axis=1), cr).sum() / cr.shape[0]\n",
    "            self.Y2.append(accuracy)\n",
    "            print(f\"accuracy: {accuracy}\")\n"
   ]
  },
  {
   "cell_type": "code",
   "execution_count": 6,
   "metadata": {},
   "outputs": [
    {
     "name": "stdout",
     "output_type": "stream",
     "text": [
      "epoch: 3960/4000, error = 1.6116710210423352e-05\r"
     ]
    }
   ],
   "source": [
    "bpn = BPNetwork([Layer(40, Sigmoid()), Layer(1, RegressionEnd())], MeanSquareError())\n",
    "\n",
    "XTrain = (np.clip(np.random.randn(40000), -np.pi, np.pi)).reshape(-1, 1)\n",
    "YTrain = np.sin(XTrain)\n",
    "XTest = (np.clip(np.random.randn(4000), -np.pi, np.pi)).reshape(-1, 1)\n",
    "YTest = np.sin(XTest)\n",
    "\n",
    "bpn.BPNTrain(XTrain, YTrain, epoches=4000, interval=40, BatchSize=40, LearningRate=0.01)\n",
    "\n"
   ]
  },
  {
   "cell_type": "code",
   "execution_count": 7,
   "metadata": {},
   "outputs": [
    {
     "data": {
      "image/png": "[encoded data removed]",
      "text/plain": [
       "<Figure size 640x480 with 1 Axes>"
      ]
     },
     "metadata": {},
     "output_type": "display_data"
    }
   ],
   "source": [
    "x = (np.arange(-np.pi, np.pi, 0.001)).reshape(-1, 1)\n",
    "expected = np.sin(x)\n",
    "res = bpn.BPNForward(x)\n",
    "\n",
    "plt.title('sin(x)')\n",
    "plt.plot(x, expected, label='truevalue')\n",
    "plt.plot(x, res, label='prediction')\n",
    "plt.legend()\n",
    "plt.show()"
   ]
  },
  {
   "cell_type": "code",
   "execution_count": 8,
   "metadata": {},
   "outputs": [
    {
     "name": "stdout",
     "output_type": "stream",
     "text": [
      "epoch: 39960/40000, error = 1.6393483180454524\r"
     ]
    }
   ],
   "source": [
    "DIR = f\"./train\"\n",
    "XTrain = []\n",
    "YTrain = []\n",
    "XTest = []\n",
    "YTest = []\n",
    "for no in range(12):\n",
    "    for pic in range(620):\n",
    "        if np.random.randint(0, 10):\n",
    "            XTrain.append(list(Image.open(f\"{DIR}/{no + 1}/{pic + 1}.bmp\").getdata()))\n",
    "            YTrain.append(int(no))\n",
    "        else:\n",
    "            XTest.append(list(Image.open(f\"{DIR}/{no + 1}/{pic + 1}.bmp\").getdata()))\n",
    "            YTest.append(int(no))\n",
    "XTrain, XTest = np.array(XTrain), np.array(XTest)\n",
    "YTrain, YTest = np.array(YTrain), np.array(YTest)\n",
    "LenTrain, LenTest = len(YTrain), len(YTest)\n",
    "ZTrain, ZTest = np.zeros((LenTrain, 12)), np.zeros((LenTest, 12))\n",
    "for i in range(LenTrain):\n",
    "    ZTrain[i][YTrain[i]] = 1\n",
    "for i in range(LenTest):\n",
    "    ZTest[i][YTest[i]] = 1\n",
    "XTrain = XTrain / 255\n",
    "XTest = XTest / 255\n",
    "\n",
    "bpn2 = BPNetwork([Layer(40, Sigmoid()), Layer(12, Sigmoid())], SoftMaxError())\n",
    "bpn2.BPNTrain(XTrain, ZTrain, epoches=40000, interval=40, BatchSize=40, LearningRate=0.01)\n",
    "\n"
   ]
  },
  {
   "cell_type": "code",
   "execution_count": 9,
   "metadata": {},
   "outputs": [],
   "source": [
    "\n",
    "with open('zjjmodel.pkl', 'wb') as f:\n",
    "    pickle.dump(bpn2, f)"
   ]
  },
  {
   "cell_type": "code",
   "execution_count": 13,
   "metadata": {},
   "outputs": [
    {
     "name": "stdout",
     "output_type": "stream",
     "text": [
      "accuracy: 0.8511198945981555\n",
      "accuracy: 0.8511198945981555\n"
     ]
    },
    {
     "data": {
      "image/png": "[encoded data removed]",
      "text/plain": [
       "<Figure size 640x480 with 1 Axes>"
      ]
     },
     "metadata": {},
     "output_type": "display_data"
    }
   ],
   "source": [
    "with open('zjjmodel.pkl', 'rb') as f:\n",
    "    bpn2 = pickle.load(f)\n",
    "\n",
    "bpn2.BPNPredict(True,XTest, ZTest, cr=YTest)\n",
    "accuracy = np.equal(np.argmax(bpn2.BPNForward(XTest), axis=1), YTest).sum() / YTest.shape[0]\n",
    "print(f\"accuracy: {accuracy}\")\n",
    "\n",
    "\n",
    "\n",
    "plt.title('loss')\n",
    "plt.xlabel('BatchCount')\n",
    "plt.plot(bpn2.Y0, label='train')\n",
    "plt.legend()\n",
    "plt.savefig('./final.jpg')\n"
   ]
  },
  {
   "cell_type": "code",
   "execution_count": 7,
   "metadata": {},
   "outputs": [
    {
     "name": "stdout",
     "output_type": "stream",
     "text": [
      "accuracy: 0.8604166666666667\n",
      "accuracy: 0.8604166666666667\n"
     ]
    }
   ],
   "source": [
    "DIR = f\"./test_data\"\n",
    "\n",
    "XTest = []\n",
    "YTest = []\n",
    "for no in range(12):\n",
    "    for pic in range(240):\n",
    "\n",
    "        XTest.append(list(Image.open(f\"{DIR}/{no + 1}/{pic + 1}.bmp\").getdata()))\n",
    "\n",
    "        YTest.append(int(no))\n",
    "\n",
    "XTest = np.array(XTest)/255\n",
    "YTest = np.array(YTest)\n",
    "\n",
    "LenTest = len(XTest)\n",
    "ZTest =np.zeros((LenTest, 12))\n",
    "\n",
    "\n",
    "for i in range(len(XTest)):\n",
    "    ZTest[i][YTest[i]] = 1\n",
    "\n",
    "with open('zjjmodel.pkl', 'rb') as f:\n",
    "    bpn2 = pickle.load(f)\n",
    "\n",
    "bpn2.BPNPredict(True,XTest, ZTest, cr=YTest)\n",
    "accuracy = np.equal(np.argmax(bpn2.BPNForward(XTest), axis=1), YTest).sum() / YTest.shape[0]\n",
    "print(f\"accuracy: {accuracy}\")"
   ]
  }
 ],
 "metadata": {
  "kernelspec": {
   "display_name": "Python 3",
   "language": "python",
   "name": "python3"
  },
  "language_info": {
   "codemirror_mode": {
    "name": "ipython",
    "version": 3
   },
   "file_extension": ".py",
   "mimetype": "text/x-python",
   "name": "python",
   "nbconvert_exporter": "python",
   "pygments_lexer": "ipython3",
   "version": "3.9.18"
  }
 },
 "nbformat": 4,
 "nbformat_minor": 2
}
